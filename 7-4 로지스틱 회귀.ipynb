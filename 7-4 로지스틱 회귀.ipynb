{
 "cells": [
  {
   "cell_type": "markdown",
   "metadata": {
    "collapsed": true,
    "pycharm": {
     "name": "#%% md\n"
    }
   },
   "source": [
    "## 로지스틱 회귀"
   ]
  },
  {
   "cell_type": "code",
   "execution_count": 9,
   "outputs": [],
   "source": [
    "import numpy as np\n",
    "import pandas\n",
    "import pandas as pd\n",
    "import pandas_datareader.data as web\n",
    "import matplotlib.pyplot as plt\n",
    "from sklearn.linear_model import LogisticRegression\n",
    "from sklearn import metrics\n",
    "from sklearn.model_selection import cross_val_score"
   ],
   "metadata": {
    "collapsed": false,
    "pycharm": {
     "name": "#%%\n"
    }
   }
  },
  {
   "cell_type": "code",
   "execution_count": 10,
   "outputs": [
    {
     "data": {
      "text/plain": "                  Open        High         Low       Close\nDate                                                      \n2015-12-31  205.130005  205.889999  203.869995  203.869995\n2016-01-04  200.490005  201.029999  198.589996  201.020004\n2016-01-05  201.399994  201.899994  200.050003  201.360001\n2016-01-06  198.339996  200.059998  197.600006  198.820007\n2016-01-07  195.330002  197.440002  193.589996  194.050003\n...                ...         ...         ...         ...\n2019-12-24  321.470001  321.519989  320.899994  321.230011\n2019-12-26  321.649994  322.950012  321.640015  322.940002\n2019-12-27  323.739990  323.799988  322.279999  322.859985\n2019-12-30  322.950012  323.100006  320.549988  321.079987\n2019-12-31  320.529999  322.130005  320.149994  321.859985\n\n[1007 rows x 4 columns]",
      "text/html": "<div>\n<style scoped>\n    .dataframe tbody tr th:only-of-type {\n        vertical-align: middle;\n    }\n\n    .dataframe tbody tr th {\n        vertical-align: top;\n    }\n\n    .dataframe thead th {\n        text-align: right;\n    }\n</style>\n<table border=\"1\" class=\"dataframe\">\n  <thead>\n    <tr style=\"text-align: right;\">\n      <th></th>\n      <th>Open</th>\n      <th>High</th>\n      <th>Low</th>\n      <th>Close</th>\n    </tr>\n    <tr>\n      <th>Date</th>\n      <th></th>\n      <th></th>\n      <th></th>\n      <th></th>\n    </tr>\n  </thead>\n  <tbody>\n    <tr>\n      <th>2015-12-31</th>\n      <td>205.130005</td>\n      <td>205.889999</td>\n      <td>203.869995</td>\n      <td>203.869995</td>\n    </tr>\n    <tr>\n      <th>2016-01-04</th>\n      <td>200.490005</td>\n      <td>201.029999</td>\n      <td>198.589996</td>\n      <td>201.020004</td>\n    </tr>\n    <tr>\n      <th>2016-01-05</th>\n      <td>201.399994</td>\n      <td>201.899994</td>\n      <td>200.050003</td>\n      <td>201.360001</td>\n    </tr>\n    <tr>\n      <th>2016-01-06</th>\n      <td>198.339996</td>\n      <td>200.059998</td>\n      <td>197.600006</td>\n      <td>198.820007</td>\n    </tr>\n    <tr>\n      <th>2016-01-07</th>\n      <td>195.330002</td>\n      <td>197.440002</td>\n      <td>193.589996</td>\n      <td>194.050003</td>\n    </tr>\n    <tr>\n      <th>...</th>\n      <td>...</td>\n      <td>...</td>\n      <td>...</td>\n      <td>...</td>\n    </tr>\n    <tr>\n      <th>2019-12-24</th>\n      <td>321.470001</td>\n      <td>321.519989</td>\n      <td>320.899994</td>\n      <td>321.230011</td>\n    </tr>\n    <tr>\n      <th>2019-12-26</th>\n      <td>321.649994</td>\n      <td>322.950012</td>\n      <td>321.640015</td>\n      <td>322.940002</td>\n    </tr>\n    <tr>\n      <th>2019-12-27</th>\n      <td>323.739990</td>\n      <td>323.799988</td>\n      <td>322.279999</td>\n      <td>322.859985</td>\n    </tr>\n    <tr>\n      <th>2019-12-30</th>\n      <td>322.950012</td>\n      <td>323.100006</td>\n      <td>320.549988</td>\n      <td>321.079987</td>\n    </tr>\n    <tr>\n      <th>2019-12-31</th>\n      <td>320.529999</td>\n      <td>322.130005</td>\n      <td>320.149994</td>\n      <td>321.859985</td>\n    </tr>\n  </tbody>\n</table>\n<p>1007 rows × 4 columns</p>\n</div>"
     },
     "execution_count": 10,
     "metadata": {},
     "output_type": "execute_result"
    }
   ],
   "source": [
    "df = web.DataReader(\"SPY\", data_source=\"yahoo\", start=\"2016-01-01\", end=\"2020-01-01\")[[\"Open\", \"High\", \"Low\", \"Close\"]]\n",
    "df.dropna()"
   ],
   "metadata": {
    "collapsed": false,
    "pycharm": {
     "name": "#%%\n"
    }
   }
  },
  {
   "cell_type": "code",
   "execution_count": 11,
   "outputs": [],
   "source": [
    "df[\"MA10\"] = df[\"Close\"].rolling(window=10).mean()\n",
    "df[\"Corr\"] = df[\"Close\"].rolling(window=10).corr(df[\"MA10\"])\n",
    "df[\"Open-Close\"] = df[\"Open\"]-df[\"Close\"].shift(1)\n",
    "df[\"Open-Open\"] = df[\"Open\"]-df[\"Open\"].shift(1)\n",
    "df = df.dropna()"
   ],
   "metadata": {
    "collapsed": false,
    "pycharm": {
     "name": "#%%\n"
    }
   }
  },
  {
   "cell_type": "code",
   "execution_count": 12,
   "outputs": [],
   "source": [
    "X = df[[\"Open\", \"High\", \"Low\", \"Close\", \"MA10\", \"Corr\", \"Open-Close\", \"Open-Open\"]]\n",
    "y = np.where(df[\"Close\"].shift(-1) > df[\"Close\"], 1, -1)"
   ],
   "metadata": {
    "collapsed": false,
    "pycharm": {
     "name": "#%%\n"
    }
   }
  },
  {
   "cell_type": "code",
   "execution_count": 13,
   "outputs": [],
   "source": [
    "train_pct = 0.8\n",
    "split = int(train_pct*len(df))\n",
    "\n",
    "X_train, X_test, y_train, y_test = X[:split], X[split:], y[:split], y[split:]"
   ],
   "metadata": {
    "collapsed": false,
    "pycharm": {
     "name": "#%%\n"
    }
   }
  },
  {
   "cell_type": "code",
   "execution_count": 14,
   "outputs": [
    {
     "data": {
      "text/plain": "            0                       1\n0        Open   [0.09829621635388419]\n1        High  [-0.10239564419705273]\n2         Low  [-0.11500607744143738]\n3       Close   [0.10160301356248148]\n4        MA10  [0.018115862092325487]\n5        Corr   [-0.0794015858190892]\n6  Open-Close  [-0.05395492509794745]\n7   Open-Open  [0.021809805658764066]",
      "text/html": "<div>\n<style scoped>\n    .dataframe tbody tr th:only-of-type {\n        vertical-align: middle;\n    }\n\n    .dataframe tbody tr th {\n        vertical-align: top;\n    }\n\n    .dataframe thead th {\n        text-align: right;\n    }\n</style>\n<table border=\"1\" class=\"dataframe\">\n  <thead>\n    <tr style=\"text-align: right;\">\n      <th></th>\n      <th>0</th>\n      <th>1</th>\n    </tr>\n  </thead>\n  <tbody>\n    <tr>\n      <th>0</th>\n      <td>Open</td>\n      <td>[0.09829621635388419]</td>\n    </tr>\n    <tr>\n      <th>1</th>\n      <td>High</td>\n      <td>[-0.10239564419705273]</td>\n    </tr>\n    <tr>\n      <th>2</th>\n      <td>Low</td>\n      <td>[-0.11500607744143738]</td>\n    </tr>\n    <tr>\n      <th>3</th>\n      <td>Close</td>\n      <td>[0.10160301356248148]</td>\n    </tr>\n    <tr>\n      <th>4</th>\n      <td>MA10</td>\n      <td>[0.018115862092325487]</td>\n    </tr>\n    <tr>\n      <th>5</th>\n      <td>Corr</td>\n      <td>[-0.0794015858190892]</td>\n    </tr>\n    <tr>\n      <th>6</th>\n      <td>Open-Close</td>\n      <td>[-0.05395492509794745]</td>\n    </tr>\n    <tr>\n      <th>7</th>\n      <td>Open-Open</td>\n      <td>[0.021809805658764066]</td>\n    </tr>\n  </tbody>\n</table>\n</div>"
     },
     "execution_count": 14,
     "metadata": {},
     "output_type": "execute_result"
    }
   ],
   "source": [
    "model = LogisticRegression()\n",
    "model.fit(X_train, y_train)\n",
    "\n",
    "pd.DataFrame(zip(X.columns, np.transpose(model.coef_)))  # 회귀계수"
   ],
   "metadata": {
    "collapsed": false,
    "pycharm": {
     "name": "#%%\n"
    }
   }
  },
  {
   "cell_type": "code",
   "execution_count": 16,
   "outputs": [
    {
     "name": "stdout",
     "output_type": "stream",
     "text": [
      "[[0.46249029 0.53750971]\n",
      " [0.42293793 0.57706207]\n",
      " [0.44230258 0.55769742]\n",
      " [0.43533791 0.56466209]\n",
      " [0.39621264 0.60378736]]\n",
      "[1 1 1 1 1]\n"
     ]
    }
   ],
   "source": [
    "probability = model.predict_proba(X_test)\n",
    "print(probability[:5])\n",
    "\n",
    "predicted = model.predict(X_test)\n",
    "print(predicted[:5])"
   ],
   "metadata": {
    "collapsed": false,
    "pycharm": {
     "name": "#%%\n"
    }
   }
  },
  {
   "cell_type": "code",
   "execution_count": 17,
   "outputs": [
    {
     "name": "stdout",
     "output_type": "stream",
     "text": [
      "[[  3  82]\n",
      " [  1 112]]\n"
     ]
    }
   ],
   "source": [
    "print(metrics.confusion_matrix(y_test, predicted))"
   ],
   "metadata": {
    "collapsed": false,
    "pycharm": {
     "name": "#%%\n"
    }
   }
  },
  {
   "cell_type": "code",
   "execution_count": 20,
   "outputs": [
    {
     "name": "stdout",
     "output_type": "stream",
     "text": [
      "              precision    recall  f1-score   support\n",
      "\n",
      "          -1       0.75      0.04      0.07        85\n",
      "           1       0.58      0.99      0.73       113\n",
      "\n",
      "    accuracy                           0.58       198\n",
      "   macro avg       0.66      0.51      0.40       198\n",
      "weighted avg       0.65      0.58      0.45       198\n",
      "\n",
      "0.5808080808080808\n"
     ]
    }
   ],
   "source": [
    "print(metrics.classification_report(y_test, predicted))\n",
    "print(model.score(X_test, y_test))\n",
    "\n",
    "# acc : 58%"
   ],
   "metadata": {
    "collapsed": false,
    "pycharm": {
     "name": "#%%\n"
    }
   }
  },
  {
   "cell_type": "code",
   "execution_count": 22,
   "outputs": [],
   "source": [
    "# 매매전략\n",
    "\n",
    "df[\"Signal\"] = model.predict(X)\n",
    "df[\"SPY_Returns\"] = np.log(df[\"Close\"] / df[\"Close\"].shift(1))  # SNP 일간수익률\n",
    "Cum_SPY_Returns = np.cumsum(df[split:][\"SPY_Returns\"])  # SNP 누적수익률\n",
    "\n",
    "df[\"STR_Returns\"] = df[\"SPY_Returns\"] * df[\"Signal\"].shift(1)\n",
    "Cum_STR_Returns = np.cumsum(df[split:][\"STR_Returns\"])"
   ],
   "metadata": {
    "collapsed": false,
    "pycharm": {
     "name": "#%%\n"
    }
   }
  },
  {
   "cell_type": "code",
   "execution_count": 23,
   "outputs": [
    {
     "data": {
      "text/plain": "<Figure size 720x360 with 1 Axes>",
      "image/png": "[encoded data removed]"
     },
     "metadata": {
      "needs_background": "light"
     },
     "output_type": "display_data"
    }
   ],
   "source": [
    "plt.figure(figsize=(10, 5))\n",
    "plt.plot(Cum_SPY_Returns, color='r', label=\"SPY Returns\")\n",
    "plt.plot(Cum_STR_Returns, color='g', label=\"Strategy Returns\")\n",
    "plt.legend()\n",
    "plt.show()\n",
    "\n",
    "# SNP보다 조금 더 좋은 수익률을 보임"
   ],
   "metadata": {
    "collapsed": false,
    "pycharm": {
     "name": "#%%\n"
    }
   }
  },
  {
   "cell_type": "code",
   "execution_count": 25,
   "outputs": [
    {
     "name": "stdout",
     "output_type": "stream",
     "text": [
      "Sharpe ratio : 0.14467613312009947\n"
     ]
    }
   ],
   "source": [
    "# 샤프비율 계산\n",
    "Std= Cum_STR_Returns.std()\n",
    "\n",
    "Sharpe = (Cum_STR_Returns - Cum_SPY_Returns)/Std\n",
    "Sharpe = Sharpe.mean()\n",
    "print(\"Sharpe ratio :\", Sharpe)\n",
    "\n",
    "# 샤프비율이 양수로 나타남"
   ],
   "metadata": {
    "collapsed": false,
    "pycharm": {
     "name": "#%%\n"
    }
   }
  },
  {
   "cell_type": "code",
   "execution_count": null,
   "outputs": [],
   "source": [],
   "metadata": {
    "collapsed": false,
    "pycharm": {
     "name": "#%%\n"
    }
   }
  },
  {
   "cell_type": "code",
   "execution_count": null,
   "outputs": [],
   "source": [],
   "metadata": {
    "collapsed": false,
    "pycharm": {
     "name": "#%%\n"
    }
   }
  }
 ],
 "metadata": {
  "kernelspec": {
   "display_name": "Python 3",
   "language": "python",
   "name": "python3"
  },
  "language_info": {
   "codemirror_mode": {
    "name": "ipython",
    "version": 2
   },
   "file_extension": ".py",
   "mimetype": "text/x-python",
   "name": "python",
   "nbconvert_exporter": "python",
   "pygments_lexer": "ipython2",
   "version": "2.7.6"
  }
 },
 "nbformat": 4,
 "nbformat_minor": 0
}