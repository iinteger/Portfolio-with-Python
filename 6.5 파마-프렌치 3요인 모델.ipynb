{
 "cells": [
  {
   "cell_type": "code",
   "execution_count": 1,
   "metadata": {
    "collapsed": true
   },
   "outputs": [],
   "source": [
    "import pandas_datareader.data as web\n",
    "import pandas_datareader.famafrench as ff"
   ]
  },
  {
   "cell_type": "code",
   "execution_count": 3,
   "outputs": [
    {
     "name": "stdout",
     "output_type": "stream",
     "text": [
      "dataset length : 297\n",
      "['F-F_Research_Data_Factors', 'F-F_Research_Data_Factors_weekly', 'F-F_Research_Data_Factors_daily', 'F-F_Research_Data_5_Factors_2x3', 'F-F_Research_Data_5_Factors_2x3_daily', 'Portfolios_Formed_on_ME', 'Portfolios_Formed_on_ME_Wout_Div', 'Portfolios_Formed_on_ME_Daily', 'Portfolios_Formed_on_BE-ME', 'Portfolios_Formed_on_BE-ME_Wout_Div', 'Portfolios_Formed_on_BE-ME_Daily', 'Portfolios_Formed_on_OP', 'Portfolios_Formed_on_OP_Wout_Div', 'Portfolios_Formed_on_OP_Daily', 'Portfolios_Formed_on_INV', 'Portfolios_Formed_on_INV_Wout_Div', 'Portfolios_Formed_on_INV_Daily', '6_Portfolios_2x3', '6_Portfolios_2x3_Wout_Div', '6_Portfolios_2x3_weekly', '6_Portfolios_2x3_daily', '25_Portfolios_5x5', '25_Portfolios_5x5_Wout_Div', '25_Portfolios_5x5_Daily', '100_Portfolios_10x10', '100_Portfolios_10x10_Wout_Div', '100_Portfolios_10x10_Daily', '6_Portfolios_ME_OP_2x3', '6_Portfolios_ME_OP_2x3_Wout_Div', '6_Portfolios_ME_OP_2x3_daily', '25_Portfolios_ME_OP_5x5', '25_Portfolios_ME_OP_5x5_Wout_Div', '25_Portfolios_ME_OP_5x5_daily', '100_Portfolios_ME_OP_10x10', '100_Portfolios_10x10_ME_OP_Wout_Div', '100_Portfolios_ME_OP_10x10_daily', '6_Portfolios_ME_INV_2x3', '6_Portfolios_ME_INV_2x3_Wout_Div', '6_Portfolios_ME_INV_2x3_daily', '25_Portfolios_ME_INV_5x5', '25_Portfolios_ME_INV_5x5_Wout_Div', '25_Portfolios_ME_INV_5x5_daily', '100_Portfolios_ME_INV_10x10', '100_Portfolios_10x10_ME_INV_Wout_Div', '100_Portfolios_ME_INV_10x10_daily', '25_Portfolios_BEME_OP_5x5', '25_Portfolios_BEME_OP_5x5_Wout_Div', '25_Portfolios_BEME_OP_5x5_daily', '25_Portfolios_BEME_INV_5x5', '25_Portfolios_BEME_INV_5x5_Wout_Div', '25_Portfolios_BEME_INV_5x5_daily', '25_Portfolios_OP_INV_5x5', '25_Portfolios_OP_INV_5x5_Wout_Div', '25_Portfolios_OP_INV_5x5_daily', '32_Portfolios_ME_BEME_OP_2x4x4', '32_Portfolios_ME_BEME_OP_2x4x4_Wout_Div', '32_Portfolios_ME_BEME_INV_2x4x4', '32_Portfolios_ME_BEME_INV_2x4x4_Wout_Div', '32_Portfolios_ME_OP_INV_2x4x4', '32_Portfolios_ME_OP_INV_2x4x4_Wout_Div', 'Portfolios_Formed_on_E-P', 'Portfolios_Formed_on_E-P_Wout_Div', 'Portfolios_Formed_on_CF-P', 'Portfolios_Formed_on_CF-P_Wout_Div', 'Portfolios_Formed_on_D-P', 'Portfolios_Formed_on_D-P_Wout_Div', '6_Portfolios_ME_EP_2x3', '6_Portfolios_ME_EP_2x3_Wout_Div', '6_Portfolios_ME_CFP_2x3', '6_Portfolios_ME_CFP_2x3_Wout_Div', '6_Portfolios_ME_DP_2x3', '6_Portfolios_ME_DP_2x3_Wout_Div', 'F-F_Momentum_Factor', 'F-F_Momentum_Factor_daily', '6_Portfolios_ME_Prior_12_2', '6_Portfolios_ME_Prior_12_2_Daily', '25_Portfolios_ME_Prior_12_2', '25_Portfolios_ME_Prior_12_2_Daily', '10_Portfolios_Prior_12_2', '10_Portfolios_Prior_12_2_Daily', 'F-F_ST_Reversal_Factor', 'F-F_ST_Reversal_Factor_daily', '6_Portfolios_ME_Prior_1_0', '6_Portfolios_ME_Prior_1_0_Daily', '25_Portfolios_ME_Prior_1_0', '25_Portfolios_ME_Prior_1_0_Daily', '10_Portfolios_Prior_1_0', '10_Portfolios_Prior_1_0_Daily', 'F-F_LT_Reversal_Factor', 'F-F_LT_Reversal_Factor_daily', '6_Portfolios_ME_Prior_60_13', '6_Portfolios_ME_Prior_60_13_Daily', '25_Portfolios_ME_Prior_60_13', '25_Portfolios_ME_Prior_60_13_Daily', '10_Portfolios_Prior_60_13', '10_Portfolios_Prior_60_13_Daily', 'Portfolios_Formed_on_AC', '25_Portfolios_ME_AC_5x5', 'Portfolios_Formed_on_BETA', '25_Portfolios_ME_BETA_5x5', 'Portfolios_Formed_on_NI', '25_Portfolios_ME_NI_5x5', 'Portfolios_Formed_on_VAR', '25_Portfolios_ME_VAR_5x5', 'Portfolios_Formed_on_RESVAR', '25_Portfolios_ME_RESVAR_5x5', '5_Industry_Portfolios', '5_Industry_Portfolios_Wout_Div', '5_Industry_Portfolios_daily', '10_Industry_Portfolios', '10_Industry_Portfolios_Wout_Div', '10_Industry_Portfolios_daily', '12_Industry_Portfolios', '12_Industry_Portfolios_Wout_Div', '12_Industry_Portfolios_daily', '17_Industry_Portfolios', '17_Industry_Portfolios_Wout_Div', '17_Industry_Portfolios_daily', '30_Industry_Portfolios', '30_Industry_Portfolios_Wout_Div', '30_Industry_Portfolios_daily', '38_Industry_Portfolios', '38_Industry_Portfolios_Wout_Div', '38_Industry_Portfolios_daily', '48_Industry_Portfolios', '48_Industry_Portfolios_Wout_Div', '48_Industry_Portfolios_daily', '49_Industry_Portfolios', '49_Industry_Portfolios_Wout_Div', '49_Industry_Portfolios_daily', 'ME_Breakpoints', 'BE-ME_Breakpoints', 'OP_Breakpoints', 'INV_Breakpoints', 'E-P_Breakpoints', 'CF-P_Breakpoints', 'D-P_Breakpoints', 'Prior_2-12_Breakpoints', 'Developed_3_Factors', 'Developed_3_Factors_Daily', 'Developed_ex_US_3_Factors', 'Developed_ex_US_3_Factors_Daily', 'Europe_3_Factors', 'Europe_3_Factors_Daily', 'Japan_3_Factors', 'Japan_3_Factors_Daily', 'Asia_Pacific_ex_Japan_3_Factors', 'Asia_Pacific_ex_Japan_3_Factors_Daily', 'North_America_3_Factors', 'North_America_3_Factors_Daily', 'Developed_5_Factors', 'Developed_5_Factors_Daily', 'Developed_ex_US_5_Factors', 'Developed_ex_US_5_Factors_Daily', 'Europe_5_Factors', 'Europe_5_Factors_Daily', 'Japan_5_Factors', 'Japan_5_Factors_Daily', 'Asia_Pacific_ex_Japan_5_Factors', 'Asia_Pacific_ex_Japan_5_Factors_Daily', 'North_America_5_Factors', 'North_America_5_Factors_Daily', 'Developed_Mom_Factor', 'Developed_Mom_Factor_Daily', 'Developed_ex_US_Mom_Factor', 'Developed_ex_US_Mom_Factor_Daily', 'Europe_Mom_Factor', 'Europe_Mom_Factor_Daily', 'Japan_Mom_Factor', 'Japan_Mom_Factor_Daily', 'Asia_Pacific_ex_Japan_MOM_Factor', 'Asia_Pacific_ex_Japan_MOM_Factor_Daily', 'North_America_Mom_Factor', 'North_America_Mom_Factor_Daily', 'Developed_6_Portfolios_ME_BE-ME', 'Developed_6_Portfolios_ME_BE-ME_daily', 'Developed_ex_US_6_Portfolios_ME_BE-ME', 'Developed_ex_US_6_Portfolios_ME_BE-ME_daily', 'Europe_6_Portfolios_ME_BE-ME', 'Europe_6_Portfolios_ME_BE-ME_daily', 'Japan_6_Portfolios_ME_BE-ME', 'Japan_6_Portfolios_ME_BE-ME_daily', 'Asia_Pacific_ex_Japan_6_Portfolios_ME_BE-ME', 'Asia_Pacific_ex_Japan_6_Portfolios_ME_BE-ME_daily', 'North_America_6_Portfolios_ME_BE-ME', 'North_America_6_Portfolios_ME_BE-ME_daily', 'Developed_25_Portfolios_ME_BE-ME', 'Developed_25_Portfolios_ME_BE-ME_daily', 'Developed_ex_US_25_Portfolios_ME_BE-ME', 'Developed_ex_US_25_Portfolios_ME_BE-ME_daily', 'Europe_25_Portfolios_ME_BE-ME', 'Europe_25_Portfolios_ME_BE-ME_daily', 'Japan_25_Portfolios_ME_BE-ME', 'Japan_25_Portfolios_ME_BE-ME_daily', 'Asia_Pacific_ex_Japan_25_Portfolios_ME_BE-ME', 'Asia_Pacific_ex_Japan_25_Portfolios_ME_BE-ME_daily', 'North_America_25_Portfolios_ME_BE-ME', 'North_America_25_Portfolios_ME_BE-ME_daily', 'Developed_6_Portfolios_ME_OP', 'Developed_6_Portfolios_ME_OP_Daily', 'Developed_ex_US_6_Portfolios_ME_OP', 'Developed_ex_US_6_Portfolios_ME_OP_Daily', 'Europe_6_Portfolios_ME_OP', 'Europe_6_Portfolios_ME_OP_Daily', 'Japan_6_Portfolios_ME_OP', 'Japan_6_Portfolios_ME_OP_Daily', 'Asia_Pacific_ex_Japan_6_Portfolios_ME_OP', 'Asia_Pacific_ex_Japan_6_Portfolios_ME_OP_Daily', 'North_America_6_Portfolios_ME_OP', 'North_America_6_Portfolios_ME_OP_Daily', 'Developed_25_Portfolios_ME_OP', 'Developed_25_Portfolios_ME_OP_Daily', 'Developed_ex_US_25_Portfolios_ME_OP', 'Developed_ex_US_25_Portfolios_ME_OP_Daily', 'Europe_25_Portfolios_ME_OP', 'Europe_25_Portfolios_ME_OP_Daily', 'Japan_25_Portfolios_ME_OP', 'Japan_25_Portfolios_ME_OP_Daily', 'Asia_Pacific_ex_Japan_25_Portfolios_ME_OP', 'Asia_Pacific_ex_Japan_25_Portfolios_ME_OP_Daily', 'North_America_25_Portfolios_ME_OP', 'North_America_25_Portfolios_ME_OP_Daily', 'Developed_6_Portfolios_ME_INV', 'Developed_6_Portfolios_ME_INV_Daily', 'Developed_ex_US_6_Portfolios_ME_INV', 'Developed_ex_US_6_Portfolios_ME_INV_Daily', 'Europe_6_Portfolios_ME_INV', 'Europe_6_Portfolios_ME_INV_Daily', 'Japan_6_Portfolios_ME_INV', 'Japan_6_Portfolios_ME_INV_Daily', 'Asia_Pacific_ex_Japan_6_Portfolios_ME_INV', 'Asia_Pacific_ex_Japan_6_Portfolios_ME_INV_Daily', 'North_America_6_Portfolios_ME_INV', 'North_America_6_Portfolios_ME_INV_Daily', 'Developed_25_Portfolios_ME_INV', 'Developed_25_Portfolios_ME_INV_Daily', 'Developed_ex_US_25_Portfolios_ME_INV', 'Developed_ex_US_25_Portfolios_ME_INV_Daily', 'Europe_25_Portfolios_ME_INV', 'Europe_25_Portfolios_ME_INV_Daily', 'Japan_25_Portfolios_ME_INV', 'Japan_25_Portfolios_ME_INV_Daily', 'Asia_Pacific_ex_Japan_25_Portfolios_ME_INV', 'Asia_Pacific_ex_Japan_25_Portfolios_ME_INV_Daily', 'North_America_25_Portfolios_ME_INV', 'North_America_25_Portfolios_ME_INV_Daily', 'Developed_6_Portfolios_ME_Prior_12_2', 'Developed_6_Portfolios_ME_Prior_250_20_daily', 'Developed_ex_US_6_Portfolios_ME_Prior_12_2', 'Developed_ex_US_6_Portfolios_ME_Prior_250_20_daily', 'Europe_6_Portfolios_ME_Prior_12_2', 'Europe_6_Portfolios_ME_Prior_250_20_daily', 'Japan_6_Portfolios_ME_Prior_12_2', 'Japan_6_Portfolios_ME_Prior_250_20_daily', 'Asia_Pacific_ex_Japan_6_Portfolios_ME_Prior_12_2', 'Asia_Pacific_ex_Japan_6_Portfolios_ME_Prior_250_20_daily', 'North_America_6_Portfolios_ME_Prior_12_2', 'North_America_6_Portfolios_ME_Prior_250_20_daily', 'Developed_25_Portfolios_ME_Prior_12_2', 'Developed_25_Portfolios_ME_Prior_250_20_daily', 'Developed_ex_US_25_Portfolios_ME_Prior_12_2', 'Developed_ex_US_25_Portfolios_ME_Prior_250_20_daily', 'Europe_25_Portfolios_ME_Prior_12_2', 'Europe_25_Portfolios_ME_Prior_250_20_daily', 'Japan_25_Portfolios_ME_Prior_12_2', 'Japan_25_Portfolios_ME_Prior_250_20_daily', 'Asia_Pacific_ex_Japan_25_Portfolios_ME_Prior_12_2', 'Asia_Pacific_ex_Japan_25_Portfolios_ME_Prior_250_20_daily', 'North_America_25_Portfolios_ME_Prior_12_2', 'North_America_25_Portfolios_ME_Prior_250_20_daily', 'Developed_32_Portfolios_ME_BE-ME_OP_2x4x4', 'Developed_ex_US_32_Portfolios_ME_BE-ME_OP_2x4x4', 'Europe_32_Portfolios_ME_BE-ME_OP_2x4x4', 'Japan_32_Portfolios_ME_BE-ME_OP_2x4x4', 'Asia_Pacific_ex_Japan_32_Portfolios_ME_BE-ME_OP_2x4x4', 'North_America_32_Portfolios_ME_BE-ME_OP_2x4x4', 'Developed_32_Portfolios_ME_BE-ME_INV(TA)_2x4x4', 'Developed_ex_US_32_Portfolios_ME_BE-ME_INV(TA)_2x4x4', 'Europe_32_Portfolios_ME_BE-ME_INV(TA)_2x4x4', 'Japan_32_Portfolios_ME_BE-ME_INV(TA)_2x4x4', 'Asia_Pacific_ex_Japan_32_Portfolios_ME_BE-ME_INV(TA)_2x4x4', 'North_America_32_Portfolios_ME_BE-ME_INV(TA)_2x4x4', 'Developed_32_Portfolios_ME_INV(TA)_OP_2x4x4', 'Developed_ex_US_32_Portfolios_ME_INV(TA)_OP_2x4x4', 'Europe_32_Portfolios_ME_INV(TA)_OP_2x4x4', 'Japan_32_Portfolios_ME_INV(TA)_OP_2x4x4', 'Asia_Pacific_ex_Japan_32_Portfolios_ME_INV(TA)_OP_2x4x4', 'North_America_32_Portfolios_ME_INV(TA)_OP_2x4x4', 'Emerging_5_Factors', 'Emerging_MOM_Factor', 'Emerging_Markets_6_Portfolios_ME_BE-ME', 'Emerging_Markets_6_Portfolios_ME_OP', 'Emerging_Markets_6_Portfolios_ME_INV', 'Emerging_Markets_6_Portfolios_ME_Prior_12_2', 'Emerging_Markets_4_Portfolios_BE-ME_OP', 'Emerging_Markets_4_Portfolios_OP_INV', 'Emerging_Markets_4_Portfolios_BE-ME_INV']\n"
     ]
    }
   ],
   "source": [
    "datasets = ff.get_available_datasets()\n",
    "\n",
    "print(\"dataset length :\", len(datasets))\n",
    "print(datasets)"
   ],
   "metadata": {
    "collapsed": false,
    "pycharm": {
     "name": "#%%\n"
    }
   }
  },
  {
   "cell_type": "code",
   "execution_count": 4,
   "outputs": [
    {
     "name": "stdout",
     "output_type": "stream",
     "text": [
      "['10_Industry_Portfolios', '10_Industry_Portfolios_Wout_Div', '10_Industry_Portfolios_daily']\n"
     ]
    }
   ],
   "source": [
    "# 10개 인더스트리 포트폴리오에 대한 데이터셋 탐색\n",
    "\n",
    "df_10_industry = [dataset for dataset in datasets if '10' in dataset and \"Industry\" in dataset]\n",
    "\n",
    "print(df_10_industry)"
   ],
   "metadata": {
    "collapsed": false,
    "pycharm": {
     "name": "#%%\n"
    }
   }
  },
  {
   "cell_type": "code",
   "execution_count": 5,
   "outputs": [
    {
     "name": "stdout",
     "output_type": "stream",
     "text": [
      "<class 'dict'>\n"
     ]
    }
   ],
   "source": [
    "ds_industry = web.DataReader(df_10_industry[0], 'famafrench', start=\"2017-06-23\", end=\"2019-11-01\")\n",
    "print(type(ds_industry))  # 딕셔너리"
   ],
   "metadata": {
    "collapsed": false,
    "pycharm": {
     "name": "#%%\n"
    }
   }
  },
  {
   "cell_type": "code",
   "execution_count": 6,
   "outputs": [
    {
     "data": {
      "text/plain": "dict_keys([0, 1, 2, 3, 4, 5, 6, 7, 'DESCR'])"
     },
     "execution_count": 6,
     "metadata": {},
     "output_type": "execute_result"
    }
   ],
   "source": [
    "ds_industry.keys()  # DESCR은 설명 항목"
   ],
   "metadata": {
    "collapsed": false,
    "pycharm": {
     "name": "#%%\n"
    }
   }
  },
  {
   "cell_type": "code",
   "execution_count": 7,
   "outputs": [
    {
     "name": "stdout",
     "output_type": "stream",
     "text": [
      "10 Industry Portfolios\n",
      "----------------------\n",
      "\n",
      "This file was created by CMPT_IND_RETS using the 202202 CRSP database. It contains value- and equal-weighted returns for 10 industry portfolios. The portfolios are constructed at the end of June. The annual returns are from January to December. Missing data are indicated by -99.99 or -999. Copyright 2022 Kenneth R. French\n",
      "\n",
      "  0 : Average Value Weighted Returns -- Monthly (30 rows x 10 cols)\n",
      "  1 : Average Equal Weighted Returns -- Monthly (30 rows x 10 cols)\n",
      "  2 : Average Value Weighted Returns -- Annual (3 rows x 10 cols)\n",
      "  3 : Average Equal Weighted Returns -- Annual (3 rows x 10 cols)\n",
      "  4 : Number of Firms in Portfolios (30 rows x 10 cols)\n",
      "  5 : Average Firm Size (30 rows x 10 cols)\n",
      "  6 : Sum of BE / Sum of ME (3 rows x 10 cols)\n",
      "  7 : Value-Weighted Average of BE/ME (3 rows x 10 cols)\n"
     ]
    }
   ],
   "source": [
    "print(ds_industry[\"DESCR\"])"
   ],
   "metadata": {
    "collapsed": false,
    "pycharm": {
     "name": "#%%\n"
    }
   }
  },
  {
   "cell_type": "code",
   "execution_count": 8,
   "outputs": [
    {
     "data": {
      "text/plain": "         NoDur  Durbl  Manuf  Enrgy  HiTec  Telcm  Shops  Hlth   Utils  Other\nDate                                                                         \n2017-06  -1.03   3.51   1.28  -0.08  -2.10  -2.22  -1.89   5.54  -1.89   4.22\n2017-07  -0.13  -1.17   2.18   2.07   3.74   5.27   0.13   0.70   2.98   1.49\n2017-08  -1.73  -0.10   0.27  -5.09   3.08  -2.64  -1.67   2.58   2.20  -0.38\n2017-09  -0.33   5.28   4.17  10.95   0.65  -1.67   2.43   2.05  -1.97   4.36\n2017-10   0.09   1.25   2.82   0.49   6.88  -5.68   2.71  -2.27   3.07   2.08",
      "text/html": "<div>\n<style scoped>\n    .dataframe tbody tr th:only-of-type {\n        vertical-align: middle;\n    }\n\n    .dataframe tbody tr th {\n        vertical-align: top;\n    }\n\n    .dataframe thead th {\n        text-align: right;\n    }\n</style>\n<table border=\"1\" class=\"dataframe\">\n  <thead>\n    <tr style=\"text-align: right;\">\n      <th></th>\n      <th>NoDur</th>\n      <th>Durbl</th>\n      <th>Manuf</th>\n      <th>Enrgy</th>\n      <th>HiTec</th>\n      <th>Telcm</th>\n      <th>Shops</th>\n      <th>Hlth</th>\n      <th>Utils</th>\n      <th>Other</th>\n    </tr>\n    <tr>\n      <th>Date</th>\n      <th></th>\n      <th></th>\n      <th></th>\n      <th></th>\n      <th></th>\n      <th></th>\n      <th></th>\n      <th></th>\n      <th></th>\n      <th></th>\n    </tr>\n  </thead>\n  <tbody>\n    <tr>\n      <th>2017-06</th>\n      <td>-1.03</td>\n      <td>3.51</td>\n      <td>1.28</td>\n      <td>-0.08</td>\n      <td>-2.10</td>\n      <td>-2.22</td>\n      <td>-1.89</td>\n      <td>5.54</td>\n      <td>-1.89</td>\n      <td>4.22</td>\n    </tr>\n    <tr>\n      <th>2017-07</th>\n      <td>-0.13</td>\n      <td>-1.17</td>\n      <td>2.18</td>\n      <td>2.07</td>\n      <td>3.74</td>\n      <td>5.27</td>\n      <td>0.13</td>\n      <td>0.70</td>\n      <td>2.98</td>\n      <td>1.49</td>\n    </tr>\n    <tr>\n      <th>2017-08</th>\n      <td>-1.73</td>\n      <td>-0.10</td>\n      <td>0.27</td>\n      <td>-5.09</td>\n      <td>3.08</td>\n      <td>-2.64</td>\n      <td>-1.67</td>\n      <td>2.58</td>\n      <td>2.20</td>\n      <td>-0.38</td>\n    </tr>\n    <tr>\n      <th>2017-09</th>\n      <td>-0.33</td>\n      <td>5.28</td>\n      <td>4.17</td>\n      <td>10.95</td>\n      <td>0.65</td>\n      <td>-1.67</td>\n      <td>2.43</td>\n      <td>2.05</td>\n      <td>-1.97</td>\n      <td>4.36</td>\n    </tr>\n    <tr>\n      <th>2017-10</th>\n      <td>0.09</td>\n      <td>1.25</td>\n      <td>2.82</td>\n      <td>0.49</td>\n      <td>6.88</td>\n      <td>-5.68</td>\n      <td>2.71</td>\n      <td>-2.27</td>\n      <td>3.07</td>\n      <td>2.08</td>\n    </tr>\n  </tbody>\n</table>\n</div>"
     },
     "execution_count": 8,
     "metadata": {},
     "output_type": "execute_result"
    }
   ],
   "source": [
    "ds_industry[0].head()"
   ],
   "metadata": {
    "collapsed": false,
    "pycharm": {
     "name": "#%%\n"
    }
   }
  },
  {
   "cell_type": "code",
   "execution_count": 9,
   "outputs": [
    {
     "name": "stdout",
     "output_type": "stream",
     "text": [
      "['F-F_Research_Data_5_Factors_2x3', 'F-F_Research_Data_5_Factors_2x3_daily', 'Developed_5_Factors', 'Developed_5_Factors_Daily', 'Developed_ex_US_5_Factors', 'Developed_ex_US_5_Factors_Daily', 'Europe_5_Factors', 'Europe_5_Factors_Daily', 'Japan_5_Factors', 'Japan_5_Factors_Daily', 'Asia_Pacific_ex_Japan_5_Factors', 'Asia_Pacific_ex_Japan_5_Factors_Daily', 'North_America_5_Factors', 'North_America_5_Factors_Daily', 'Emerging_5_Factors']\n"
     ]
    }
   ],
   "source": [
    "# 5개의 요인 데이터셋\n",
    "\n",
    "df_5_factor = [dataset for dataset in datasets if '5' in dataset and \"Factor\" in dataset]\n",
    "\n",
    "print(df_5_factor)"
   ],
   "metadata": {
    "collapsed": false,
    "pycharm": {
     "name": "#%%\n"
    }
   }
  },
  {
   "cell_type": "code",
   "execution_count": 11,
   "outputs": [
    {
     "data": {
      "text/plain": "dict_keys([0, 1, 'DESCR'])"
     },
     "execution_count": 11,
     "metadata": {},
     "output_type": "execute_result"
    }
   ],
   "source": [
    "ds_factors = web.DataReader(df_5_factor[0], 'famafrench', start=\"2017-06-23\", end=\"2019-11-01\")\n",
    "ds_factors.keys()"
   ],
   "metadata": {
    "collapsed": false,
    "pycharm": {
     "name": "#%%\n"
    }
   }
  },
  {
   "cell_type": "code",
   "execution_count": 13,
   "outputs": [
    {
     "name": "stdout",
     "output_type": "stream",
     "text": [
      "F-F Research Data 5 Factors 2x3\n",
      "-------------------------------\n",
      "\n",
      "This file was created by CMPT_ME_BEME_OP_INV_RETS using the 202202 CRSP database. The 1-month TBill return is from Ibbotson and Associates Inc.\n",
      "\n",
      "  0 : (30 rows x 6 cols)\n",
      "  1 : Annual Factors: January-December (3 rows x 6 cols)\n"
     ]
    }
   ],
   "source": [
    "print(ds_factors[\"DESCR\"])"
   ],
   "metadata": {
    "collapsed": false,
    "pycharm": {
     "name": "#%%\n"
    }
   }
  },
  {
   "cell_type": "code",
   "execution_count": 14,
   "outputs": [
    {
     "data": {
      "text/plain": "         Mkt-RF   SMB   HML   RMW   CMA    RF\nDate                                         \n2017-06    0.78  2.57  1.49 -2.26  0.00  0.06\n2017-07    1.87 -1.62 -0.22 -0.59 -0.15  0.07\n2017-08    0.16 -1.82 -2.07  0.12 -2.35  0.09\n2017-09    2.51  4.74  3.09 -1.50  1.63  0.09\n2017-10    2.25 -1.95  0.22  0.85 -3.23  0.09",
      "text/html": "<div>\n<style scoped>\n    .dataframe tbody tr th:only-of-type {\n        vertical-align: middle;\n    }\n\n    .dataframe tbody tr th {\n        vertical-align: top;\n    }\n\n    .dataframe thead th {\n        text-align: right;\n    }\n</style>\n<table border=\"1\" class=\"dataframe\">\n  <thead>\n    <tr style=\"text-align: right;\">\n      <th></th>\n      <th>Mkt-RF</th>\n      <th>SMB</th>\n      <th>HML</th>\n      <th>RMW</th>\n      <th>CMA</th>\n      <th>RF</th>\n    </tr>\n    <tr>\n      <th>Date</th>\n      <th></th>\n      <th></th>\n      <th></th>\n      <th></th>\n      <th></th>\n      <th></th>\n    </tr>\n  </thead>\n  <tbody>\n    <tr>\n      <th>2017-06</th>\n      <td>0.78</td>\n      <td>2.57</td>\n      <td>1.49</td>\n      <td>-2.26</td>\n      <td>0.00</td>\n      <td>0.06</td>\n    </tr>\n    <tr>\n      <th>2017-07</th>\n      <td>1.87</td>\n      <td>-1.62</td>\n      <td>-0.22</td>\n      <td>-0.59</td>\n      <td>-0.15</td>\n      <td>0.07</td>\n    </tr>\n    <tr>\n      <th>2017-08</th>\n      <td>0.16</td>\n      <td>-1.82</td>\n      <td>-2.07</td>\n      <td>0.12</td>\n      <td>-2.35</td>\n      <td>0.09</td>\n    </tr>\n    <tr>\n      <th>2017-09</th>\n      <td>2.51</td>\n      <td>4.74</td>\n      <td>3.09</td>\n      <td>-1.50</td>\n      <td>1.63</td>\n      <td>0.09</td>\n    </tr>\n    <tr>\n      <th>2017-10</th>\n      <td>2.25</td>\n      <td>-1.95</td>\n      <td>0.22</td>\n      <td>0.85</td>\n      <td>-3.23</td>\n      <td>0.09</td>\n    </tr>\n  </tbody>\n</table>\n</div>"
     },
     "execution_count": 14,
     "metadata": {},
     "output_type": "execute_result"
    }
   ],
   "source": [
    "ds_factors[0].head()  # 다섯개의 요인과 무위험이자율(Risk-Free)"
   ],
   "metadata": {
    "collapsed": false,
    "pycharm": {
     "name": "#%%\n"
    }
   }
  },
  {
   "cell_type": "markdown",
   "source": [
    "## 펀드 수익률과 요인 데이터 회귀분석\n",
    "* 월간 3요인, 펀드 수익률을 구해서 회귀분석"
   ],
   "metadata": {
    "collapsed": false,
    "pycharm": {
     "name": "#%% md\n"
    }
   }
  },
  {
   "cell_type": "code",
   "execution_count": 15,
   "outputs": [],
   "source": [
    "import pandas_datareader.data as web\n",
    "import pandas_datareader.famafrench as ff\n",
    "import pandas as pd"
   ],
   "metadata": {
    "collapsed": false,
    "pycharm": {
     "name": "#%%\n"
    }
   }
  },
  {
   "cell_type": "code",
   "execution_count": 16,
   "outputs": [],
   "source": [
    "datasets = ff.get_available_datasets()"
   ],
   "metadata": {
    "collapsed": false,
    "pycharm": {
     "name": "#%%\n"
    }
   }
  },
  {
   "cell_type": "code",
   "execution_count": 17,
   "outputs": [
    {
     "name": "stdout",
     "output_type": "stream",
     "text": [
      "{0:          Mkt-RF   SMB   HML    RF\n",
      "Date                             \n",
      "1980-02   -1.22 -1.85  0.61  0.89\n",
      "1980-03  -12.90 -6.64 -1.01  1.21\n",
      "1980-04    3.97  1.05  1.08  1.26\n",
      "1980-05    5.26  2.13  0.38  0.81\n",
      "1980-06    3.06  1.66 -0.76  0.61\n",
      "...         ...   ...   ...   ...\n",
      "2019-02    3.40  2.04 -2.68  0.18\n",
      "2019-03    1.10 -2.98 -4.05  0.19\n",
      "2019-04    3.96 -1.74  2.17  0.21\n",
      "2019-05   -6.94 -1.34 -2.37  0.21\n",
      "2019-06    6.93  0.25 -0.71  0.18\n",
      "\n",
      "[473 rows x 4 columns], 1:       Mkt-RF    SMB    HML     RF\n",
      "Date                             \n",
      "1980   22.13   5.70 -24.63  11.24\n",
      "1981  -18.13   7.13  25.12  14.71\n",
      "1982   10.66   8.70  13.36  10.54\n",
      "1983   13.74  14.03  20.49   8.80\n",
      "1984   -6.05  -8.20  19.07   9.85\n",
      "1985   24.91   0.58   1.37   7.72\n",
      "1986   10.12  -9.56   9.33   6.16\n",
      "1987   -3.87 -10.85  -1.62   5.47\n",
      "1988   11.55   5.76  14.37   6.35\n",
      "1989   20.49 -12.90  -4.12   8.37\n",
      "1990  -13.95 -14.02 -10.04   7.81\n",
      "1991   29.18  16.16 -14.72   5.60\n",
      "1992    6.23   7.66  24.49   3.51\n",
      "1993    8.21   6.38  16.86   2.90\n",
      "1994   -4.10  -0.30  -0.77   3.90\n",
      "1995   31.22  -9.75   6.05   5.60\n",
      "1996   15.96  -4.42   8.71   5.21\n",
      "1997   25.96  -7.64  19.10   5.26\n",
      "1998   19.46 -25.28 -10.32   4.86\n",
      "1999   20.57  15.59 -31.96   4.68\n",
      "2000  -17.60  -4.58  45.02   5.89\n",
      "2001  -15.21  18.24  18.50   3.83\n",
      "2002  -22.76   4.45   8.09   1.65\n",
      "2003   30.75  26.51   5.11   1.02\n",
      "2004   10.72   4.43   7.67   1.20\n",
      "2005    3.09  -2.36   9.43   2.98\n",
      "2006   10.60   0.08  11.75   4.80\n",
      "2007    1.04  -7.40 -17.28   4.66\n",
      "2008  -38.34   2.45   0.83   1.60\n",
      "2009   28.26   9.35  -9.42   0.10\n",
      "2010   17.37  14.29  -5.10   0.12\n",
      "2011    0.44  -5.79  -8.54   0.04\n",
      "2012   16.27  -1.32   9.85   0.06\n",
      "2013   35.20   7.63   2.65   0.02\n",
      "2014   11.71  -7.80  -1.46   0.02\n",
      "2015    0.07  -3.93  -9.53   0.02\n",
      "2016   13.30   6.63  22.64   0.20\n",
      "2017   21.51  -4.95 -13.48   0.80\n",
      "2018   -6.93  -3.34  -9.80   1.81\n",
      "2019   28.28  -6.06 -10.48   2.14, 'DESCR': 'F-F Research Data Factors\\n-------------------------\\n\\nThis file was created by CMPT_ME_BEME_RETS using the 202202 CRSP database. The 1-month TBill return is from Ibbotson and Associates, Inc. Copyright 2022 Kenneth R. French\\n\\n  0 : (473 rows x 4 cols)\\n  1 : Annual Factors: January-December (40 rows x 4 cols)'}\n"
     ]
    }
   ],
   "source": [
    "# 월간 3요인\n",
    "\n",
    "df_3_factor = datasets[0]\n",
    "ds_factors = web.DataReader(df_3_factor, 'famafrench', start=\"1980-02-01\", end=\"2019-06-30\")\n",
    "\n",
    "print(ds_factors)"
   ],
   "metadata": {
    "collapsed": false,
    "pycharm": {
     "name": "#%%\n"
    }
   }
  },
  {
   "cell_type": "code",
   "execution_count": 19,
   "outputs": [],
   "source": [
    "# 이후 펀드 수익률과 합치기 위해 인덱스 종류 변경\n",
    "\n",
    "ds_factors[0].index = ds_factors[0].index.strftime(\"%Y-%m\")\n",
    "\n",
    "ds_3_factors = ds_factors[0]"
   ],
   "metadata": {
    "collapsed": false,
    "pycharm": {
     "name": "#%%\n"
    }
   }
  },
  {
   "cell_type": "markdown",
   "source": [
    "## Fidelity Contrafund Fund 초과수익률 계산"
   ],
   "metadata": {
    "collapsed": false,
    "pycharm": {
     "name": "#%% md\n"
    }
   }
  },
  {
   "cell_type": "code",
   "execution_count": 18,
   "outputs": [],
   "source": [
    "import pandas_datareader.data as web\n",
    "import pandas as pd"
   ],
   "metadata": {
    "collapsed": false,
    "pycharm": {
     "name": "#%%\n"
    }
   }
  },
  {
   "cell_type": "code",
   "execution_count": 21,
   "outputs": [
    {
     "data": {
      "text/plain": "         portfolio  Mkt-RF   SMB   HML    RF\nDate                                        \n1985-02   0.006542    1.22  0.80 -0.10  0.58\n1985-03   0.008356   -0.84 -1.07  4.07  0.62\n1985-04  -0.011050   -0.96  0.15  3.72  0.72\n1985-05   0.019553    5.09 -2.22 -0.94  0.66\n1985-06   0.006393    1.27  0.52  0.41  0.55\n...            ...     ...   ...   ...   ...\n2019-02   0.014938    3.40  2.04 -2.68  0.18\n2019-03   0.031163    1.10 -2.98 -4.05  0.19\n2019-04   0.048800    3.96 -1.74  2.17  0.21\n2019-05  -0.057208   -6.94 -1.34 -2.37  0.21\n2019-06   0.066343    6.93  0.25 -0.71  0.18\n\n[413 rows x 5 columns]",
      "text/html": "<div>\n<style scoped>\n    .dataframe tbody tr th:only-of-type {\n        vertical-align: middle;\n    }\n\n    .dataframe tbody tr th {\n        vertical-align: top;\n    }\n\n    .dataframe thead th {\n        text-align: right;\n    }\n</style>\n<table border=\"1\" class=\"dataframe\">\n  <thead>\n    <tr style=\"text-align: right;\">\n      <th></th>\n      <th>portfolio</th>\n      <th>Mkt-RF</th>\n      <th>SMB</th>\n      <th>HML</th>\n      <th>RF</th>\n    </tr>\n    <tr>\n      <th>Date</th>\n      <th></th>\n      <th></th>\n      <th></th>\n      <th></th>\n      <th></th>\n    </tr>\n  </thead>\n  <tbody>\n    <tr>\n      <th>1985-02</th>\n      <td>0.006542</td>\n      <td>1.22</td>\n      <td>0.80</td>\n      <td>-0.10</td>\n      <td>0.58</td>\n    </tr>\n    <tr>\n      <th>1985-03</th>\n      <td>0.008356</td>\n      <td>-0.84</td>\n      <td>-1.07</td>\n      <td>4.07</td>\n      <td>0.62</td>\n    </tr>\n    <tr>\n      <th>1985-04</th>\n      <td>-0.011050</td>\n      <td>-0.96</td>\n      <td>0.15</td>\n      <td>3.72</td>\n      <td>0.72</td>\n    </tr>\n    <tr>\n      <th>1985-05</th>\n      <td>0.019553</td>\n      <td>5.09</td>\n      <td>-2.22</td>\n      <td>-0.94</td>\n      <td>0.66</td>\n    </tr>\n    <tr>\n      <th>1985-06</th>\n      <td>0.006393</td>\n      <td>1.27</td>\n      <td>0.52</td>\n      <td>0.41</td>\n      <td>0.55</td>\n    </tr>\n    <tr>\n      <th>...</th>\n      <td>...</td>\n      <td>...</td>\n      <td>...</td>\n      <td>...</td>\n      <td>...</td>\n    </tr>\n    <tr>\n      <th>2019-02</th>\n      <td>0.014938</td>\n      <td>3.40</td>\n      <td>2.04</td>\n      <td>-2.68</td>\n      <td>0.18</td>\n    </tr>\n    <tr>\n      <th>2019-03</th>\n      <td>0.031163</td>\n      <td>1.10</td>\n      <td>-2.98</td>\n      <td>-4.05</td>\n      <td>0.19</td>\n    </tr>\n    <tr>\n      <th>2019-04</th>\n      <td>0.048800</td>\n      <td>3.96</td>\n      <td>-1.74</td>\n      <td>2.17</td>\n      <td>0.21</td>\n    </tr>\n    <tr>\n      <th>2019-05</th>\n      <td>-0.057208</td>\n      <td>-6.94</td>\n      <td>-1.34</td>\n      <td>-2.37</td>\n      <td>0.21</td>\n    </tr>\n    <tr>\n      <th>2019-06</th>\n      <td>0.066343</td>\n      <td>6.93</td>\n      <td>0.25</td>\n      <td>-0.71</td>\n      <td>0.18</td>\n    </tr>\n  </tbody>\n</table>\n<p>413 rows × 5 columns</p>\n</div>"
     },
     "execution_count": 21,
     "metadata": {},
     "output_type": "execute_result"
    }
   ],
   "source": [
    "ticker = \"FCNTX\"\n",
    "\n",
    "# 수정주가\n",
    "pxclose = web.get_data_yahoo(ticker, start=\"1980-01-01\", end=\"2019-06-30\", interval='m')['Adj Close']\n",
    "\n",
    "# 앞선 요인 자료와 합치기 위해 인덱스 종류 변경\n",
    "pxclose.index = pxclose.index.strftime(\"%Y-%m\")\n",
    "\n",
    "# 수익률 계산\n",
    "ret_data = pxclose.pct_change()[1:]\n",
    "\n",
    "ret_data = pd.DataFrame(ret_data)\n",
    "\n",
    "ret_data.columns = ['portfolio']\n",
    "\n",
    "# ret_data, ds_3_factors 병합\n",
    "regress_data = ret_data.merge(ds_3_factors, how='inner', left_index=True, right_index=True)\n",
    "regress_data"
   ],
   "metadata": {
    "collapsed": false,
    "pycharm": {
     "name": "#%%\n"
    }
   }
  },
  {
   "cell_type": "code",
   "execution_count": 22,
   "outputs": [],
   "source": [
    "regress_data.rename(columns={\"Mkt-RF\":\"mkt_excess\"}, inplace=True)\n",
    "\n",
    "# 초과수익률(펀드 수익률 - 무위험수익률) 계산\n",
    "regress_data[\"port_excess\"] = regress_data[\"portfolio\"] - regress_data[\"RF\"]"
   ],
   "metadata": {
    "collapsed": false,
    "pycharm": {
     "name": "#%%\n"
    }
   }
  },
  {
   "cell_type": "code",
   "execution_count": 23,
   "outputs": [
    {
     "name": "stdout",
     "output_type": "stream",
     "text": [
      "Intercept    -0.265510\n",
      "mkt_excess    0.008333\n",
      "SMB           0.007789\n",
      "HML          -0.001351\n",
      "dtype: float64\n",
      "                            OLS Regression Results                            \n",
      "==============================================================================\n",
      "Dep. Variable:            port_excess   R-squared:                       0.051\n",
      "Model:                            OLS   Adj. R-squared:                  0.044\n",
      "Method:                 Least Squares   F-statistic:                     7.338\n",
      "Date:                Mon, 04 Apr 2022   Prob (F-statistic):           8.42e-05\n",
      "Time:                        21:28:01   Log-Likelihood:                 56.507\n",
      "No. Observations:                 413   AIC:                            -105.0\n",
      "Df Residuals:                     409   BIC:                            -88.92\n",
      "Df Model:                           3                                         \n",
      "Covariance Type:            nonrobust                                         \n",
      "==============================================================================\n",
      "                 coef    std err          t      P>|t|      [0.025      0.975]\n",
      "------------------------------------------------------------------------------\n",
      "Intercept     -0.2655      0.011    -25.023      0.000      -0.286      -0.245\n",
      "mkt_excess     0.0083      0.002      3.367      0.001       0.003       0.013\n",
      "SMB            0.0078      0.004      2.176      0.030       0.001       0.015\n",
      "HML           -0.0014      0.004     -0.352      0.725      -0.009       0.006\n",
      "==============================================================================\n",
      "Omnibus:                      156.663   Durbin-Watson:                   0.120\n",
      "Prob(Omnibus):                  0.000   Jarque-Bera (JB):               24.558\n",
      "Skew:                          -0.203   Prob(JB):                     4.65e-06\n",
      "Kurtosis:                       1.877   Cond. No.                         4.68\n",
      "==============================================================================\n",
      "\n",
      "Notes:\n",
      "[1] Standard Errors assume that the covariance matrix of the errors is correctly specified.\n"
     ]
    }
   ],
   "source": [
    "# 회귀분석\n",
    "\n",
    "import statsmodels.api as smf\n",
    "\n",
    "model = smf.formula.ols(formula=\"port_excess ~ mkt_excess + SMB + HML\", data=regress_data).fit()\n",
    "\n",
    "print(model.params)  # 회귀식 계수\n",
    "print(model.summary())  # 기술통계량"
   ],
   "metadata": {
    "collapsed": false,
    "pycharm": {
     "name": "#%%\n"
    }
   }
  }
 ],
 "metadata": {
  "kernelspec": {
   "display_name": "Python 3",
   "language": "python",
   "name": "python3"
  },
  "language_info": {
   "codemirror_mode": {
    "name": "ipython",
    "version": 2
   },
   "file_extension": ".py",
   "mimetype": "text/x-python",
   "name": "python",
   "nbconvert_exporter": "python",
   "pygments_lexer": "ipython2",
   "version": "2.7.6"
  }
 },
 "nbformat": 4,
 "nbformat_minor": 0
}