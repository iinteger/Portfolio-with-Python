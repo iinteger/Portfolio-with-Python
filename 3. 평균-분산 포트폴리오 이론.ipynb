{
 "cells": [
  {
   "cell_type": "code",
   "execution_count": 8,
   "metadata": {
    "collapsed": true
   },
   "outputs": [
    {
     "name": "stdout",
     "output_type": "stream",
     "text": [
      "난수로 만드는 국면별 주식의 수익률 : \n",
      " [[ 0.2074632  -0.47340985 -2.71857119 -0.01847597]\n",
      " [ 0.47174926  1.29761021 -0.77169606 -2.33976503]\n",
      " [ 0.85365517  0.70757133  0.11657723  0.28503925]]\n",
      "\n",
      "각 경기 국면 별 확률 : \n",
      " [0.34340439 0.35151164 0.30508398]\n",
      "\n",
      "각 주식의 기대수익률 : \n",
      " [ 0.49750564  0.50942274 -1.16926357 -0.74183845]\n",
      "\n",
      "투자 비중 : \n",
      " [0.05004707 0.38077417 0.37888104 0.19029772]\n",
      "\n",
      "포트폴리오 기대수익률 : -36.53%\n"
     ]
    }
   ],
   "source": [
    "# N개 주식으로 만든 포트폴리오\n",
    "# 각 주식에 대한 확률과 수익률은 난수로 대체\n",
    "\n",
    "import numpy as np\n",
    "\n",
    "numStocks  = 4  # 자산의 개수\n",
    "\n",
    "# 호황, 평상, 불황 세가지 국면별로 자산을 생성\n",
    "returns = np.random.randn(3, numStocks)\n",
    "print(\"난수로 만드는 국면별 주식의 수익률 : \\n\", returns)\n",
    "\n",
    "# 세 국면별 확률. 전체 합이 1이 되도록 함\n",
    "prob = np.random.rand(3)\n",
    "prob = prob/prob.sum()\n",
    "print(\"\\n각 경기 국면 별 확률 : \\n\", prob)\n",
    "\n",
    "# 경기 국면별 확률과 수익률을 곱. 각 주식의 기대수익률\n",
    "expectedReturns = np.matmul(prob.T, returns)\n",
    "print(\"\\n각 주식의 기대수익률 : \\n\", expectedReturns)\n",
    "\n",
    "# 투자 비중. 총합이 0이 되도록 함\n",
    "weights = np.random.rand(numStocks)\n",
    "weights = weights/weights.sum()\n",
    "print(\"\\n투자 비중 : \\n\", weights)\n",
    "\n",
    "# 투자 비중과 기대수익률을 곱해서 포트폴리오 기대수익률 계산\n",
    "expectedReturnsofPortfolio = np.sum(weights*expectedReturns)\n",
    "print(\"\\n포트폴리오 기대수익률 : {:.2%}\".format(expectedReturnsofPortfolio))"
   ]
  },
  {
   "cell_type": "code",
   "execution_count": 9,
   "outputs": [
    {
     "name": "stdout",
     "output_type": "stream",
     "text": [
      "종목별 연간수익률 : MMM     -0.023615\n",
      "ADBE     0.211147\n",
      "AMD      0.511828\n",
      "GOOGL    0.283030\n",
      "GOOG     0.285542\n",
      "AMZN     0.195164\n",
      "dtype: float64\n",
      "종목별 투자 비중 : [0.20485281 0.15081205 0.26530895 0.13167828 0.15192992 0.09541798]\n",
      "포트폴리오 기대수익률 : 0.0010482873030065577\n"
     ]
    }
   ],
   "source": [
    "# 실제 데이터의 기대수익률 계산\n",
    "\n",
    "import numpy as np\n",
    "import pandas as pd\n",
    "from pandas_datareader import data as web\n",
    "import random\n",
    "\n",
    "tickers = [\"MMM\", \"ADBE\", \"AMD\", \"GOOGL\", \"GOOG\", \"AMZN\"]\n",
    "\n",
    "adjClose = pd.DataFrame()  # 수정주가를 담을 데이터프레임\n",
    "\n",
    "for item in tickers:\n",
    "    adjClose[item] = web.DataReader(item, data_source=\"yahoo\", start=\"15-09-2018\")[\"Adj Close\"]\n",
    "\n",
    "# pct_change : 데이터의 변화량을 % 로 계산해줌\n",
    "dailySimpleReturns = adjClose.pct_change()\n",
    "\n",
    "# 기대수익률 대신 일간수익률의 평균 계산\n",
    "meanReturns = np.matrix(dailySimpleReturns.mean())\n",
    "\n",
    "# 참고 : 1년중 영업일은 250일 정도이므로 일간수익률에 250을 곱해서 연간수익률 생성\n",
    "annualReturns = dailySimpleReturns.mean()*250\n",
    "print(\"종목별 연간수익률 :\", annualReturns)\n",
    "\n",
    "numAssets = len(tickers)\n",
    "\n",
    "# 주식 갯수만큼 투자 비중 생성\n",
    "weights = np.random.random(numAssets)\n",
    "weights = weights / sum(weights)\n",
    "print(\"종목별 투자 비중 :\", weights)\n",
    "\n",
    "# 기대수익률 계산\n",
    "portReturnsExpected = np.sum(weights*meanReturns.T)\n",
    "print(\"포트폴리오 기대수익률 :\", portReturnsExpected)"
   ],
   "metadata": {
    "collapsed": false,
    "pycharm": {
     "name": "#%%\n"
    }
   }
  },
  {
   "cell_type": "code",
   "execution_count": 10,
   "outputs": [
    {
     "name": "stdout",
     "output_type": "stream",
     "text": [
      "포트폴리오 분산 : [[0.0003645]]\n"
     ]
    }
   ],
   "source": [
    "# 실제 데이터로 n개의 주식이 담긴 포트폴리오 계산\n",
    "\n",
    "import numpy as np\n",
    "import pandas as pd\n",
    "from pandas_datareader import data as web\n",
    "import random\n",
    "\n",
    "tickers = [\"MMM\", \"ADBE\", \"AMD\", \"GOOGL\", \"GOOG\", \"AMZN\"]\n",
    "adjClose = pd.DataFrame()\n",
    "\n",
    "for item in tickers:\n",
    "    adjClose[item] = web.DataReader(item, data_source=\"yahoo\", start=\"15-09-2018\")[\"Adj Close\"]\n",
    "dailySimpleReturns = adjClose.pct_change()\n",
    "\n",
    "weights = np.matrix(weights)\n",
    "\n",
    "# cov : 공분산 계산\n",
    "pcov = dailySimpleReturns.cov().values\n",
    "\n",
    "# 분산 계산(리스크)\n",
    "varp = weights*pcov*weights.T\n",
    "print(\"포트폴리오 분산 :\", varp)"
   ],
   "metadata": {
    "collapsed": false,
    "pycharm": {
     "name": "#%%\n"
    }
   }
  }
 ],
 "metadata": {
  "kernelspec": {
   "display_name": "Python 3",
   "language": "python",
   "name": "python3"
  },
  "language_info": {
   "codemirror_mode": {
    "name": "ipython",
    "version": 2
   },
   "file_extension": ".py",
   "mimetype": "text/x-python",
   "name": "python",
   "nbconvert_exporter": "python",
   "pygments_lexer": "ipython2",
   "version": "2.7.6"
  }
 },
 "nbformat": 4,
 "nbformat_minor": 0
}